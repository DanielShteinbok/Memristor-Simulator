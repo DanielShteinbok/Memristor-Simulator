{
 "cells": [
  {
   "cell_type": "markdown",
   "metadata": {},
   "source": [
    "# Memristor Simulation\n",
    "This notebook simulates a memristor. The memristor is described by two equations:\n",
    "$$\n",
    "v(t) = \\Big(R_{on}\\frac{w(t)}{D} + R_{off}\\Big(1 - \\frac{w(t)}{D}\\Big)\\Big)i(t) \\\\\n",
    "$$\n",
    "and\n",
    "$$\n",
    "\\frac{dw(t)}{dt} = \\mu_v\\frac{R_{on}}{D}i(t)\n",
    "$$\n",
    "This is simulated via `utils.py`"
   ]
  },
  {
   "cell_type": "code",
   "execution_count": 1,
   "metadata": {},
   "outputs": [],
   "source": [
    "import numpy as np\n",
    "from utils import *"
   ]
  },
  {
   "cell_type": "code",
   "execution_count": null,
   "metadata": {},
   "outputs": [
    {
     "ename": "TypeError",
     "evalue": "Cannot interpret '2' as a data type",
     "output_type": "error",
     "traceback": [
      "\u001b[0;31m---------------------------------------------------------------------------\u001b[0m",
      "\u001b[0;31mTypeError\u001b[0m                                 Traceback (most recent call last)",
      "Cell \u001b[0;32mIn[2], line 9\u001b[0m\n\u001b[1;32m      7\u001b[0m \u001b[38;5;66;03m# input signal\u001b[39;00m\n\u001b[1;32m      8\u001b[0m t \u001b[38;5;241m=\u001b[39m np\u001b[38;5;241m.\u001b[39mlinspace(\u001b[38;5;241m0\u001b[39m, \u001b[38;5;241m10\u001b[39m)\n\u001b[0;32m----> 9\u001b[0m v_t \u001b[38;5;241m=\u001b[39m np\u001b[38;5;241m.\u001b[39mempty(t\u001b[38;5;241m.\u001b[39mshape[\u001b[38;5;241m0\u001b[39m], \u001b[38;5;241m2\u001b[39m)\n\u001b[1;32m     10\u001b[0m v_t[:,\u001b[38;5;241m0\u001b[39m] \u001b[38;5;241m=\u001b[39m t\n\u001b[1;32m     11\u001b[0m v_t[:,\u001b[38;5;241m1\u001b[39m] \u001b[38;5;241m=\u001b[39m np\u001b[38;5;241m.\u001b[39mcos(np\u001b[38;5;241m.\u001b[39mpi\u001b[38;5;241m*\u001b[39mt)\n",
      "\u001b[0;31mTypeError\u001b[0m: Cannot interpret '2' as a data type"
     ]
    }
   ],
   "source": [
    "# device parameters\n",
    "R_on = 100\n",
    "R_off = 16e3\n",
    "D = 10e-9\n",
    "mu = 1e-10\n",
    "\n",
    "# input signal\n",
    "t = np.linspace(0, 10)\n",
    "v_t = np.empty((t.shape[0], 2))\n",
    "v_t[:,0] = t\n",
    "v_t[:,1] = np.cos(np.pi*t)\n",
    "\n",
    "# create the memristor\n",
    "mr = Memristor(R_on, R_off, D, mu)\n",
    "\n",
    "# plot\n",
    "plot_i({\"first device\": mr.apply_voltage(v_t)})\n"
   ]
  }
 ],
 "metadata": {
  "kernelspec": {
   "display_name": "ne471",
   "language": "python",
   "name": "python3"
  },
  "language_info": {
   "codemirror_mode": {
    "name": "ipython",
    "version": 3
   },
   "file_extension": ".py",
   "mimetype": "text/x-python",
   "name": "python",
   "nbconvert_exporter": "python",
   "pygments_lexer": "ipython3",
   "version": "3.12.7"
  }
 },
 "nbformat": 4,
 "nbformat_minor": 2
}
